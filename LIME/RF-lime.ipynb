{
 "cells": [
  {
   "cell_type": "code",
   "execution_count": 1,
   "metadata": {},
   "outputs": [],
   "source": [
    "import pandas as pd\n",
    "import matplotlib.pyplot as plt\n",
    "# import seaborn as sns\n",
    "import matplotlib as mpl\n",
    "import rdkit, rdkit.Chem, rdkit.Chem.Draw\n",
    "from rdkit.Chem.Draw import IPythonConsole\n",
    "import numpy as np\n",
    "import mordred, mordred.descriptors\n",
    "from mordred import HydrogenBond, Polarizability\n",
    "from mordred import SLogP, AcidBase, BertzCT, Aromatic, BondCount\n",
    "from mordred import Calculator\n",
    "import exmol as exmol\n",
    "from rdkit.Chem.Draw import rdDepictor\n",
    "import os\n",
    "from sklearn.ensemble import RandomForestRegressor\n",
    "from sklearn.model_selection import train_test_split\n",
    "from sklearn.metrics import roc_auc_score, plot_roc_curve\n",
    "os.environ[\"CUDA_VISIBLE_DEVICES\"]=\"0\"\n",
    "rdDepictor.SetPreferCoordGen(True)\n",
    "\n",
    "IPythonConsole.ipython_useSVG = True\n",
    "# sns.set_context('notebook')\n",
    "# sns.set_style('dark',  {'xtick.bottom':True, 'ytick.left':True, 'xtick.color': '#666666', 'ytick.color': '#666666',\n",
    "#                         'axes.edgecolor': '#666666', 'axes.linewidth':     0.8 , 'figure.dpi': 300})\n",
    "color_cycle = [ '#F06060', '#1BBC9B','#F3B562', '#6e5687', '#5C4B51']\n",
    "mpl.rcParams['axes.prop_cycle'] = mpl.cycler(color=color_cycle) \n",
    "np.random.seed(0)\n",
    "soldata = pd.read_csv('https://github.com/whitead/dmol-book/raw/master/data/curated-solubility-dataset.csv')\n",
    "features_start_at = list(soldata.columns).index('MolWt')"
   ]
  },
  {
   "cell_type": "code",
   "execution_count": 2,
   "metadata": {
    "scrolled": true
   },
   "outputs": [],
   "source": [
    "# make object that can compute descriptors\n",
    "calc = Calculator()\n",
    "calc.register([HydrogenBond.HBondDonor, HydrogenBond.HBondAcceptor])\n",
    "calc.register([AcidBase.AcidicGroupCount, AcidBase.BasicGroupCount,\n",
    "            Aromatic.AromaticBondsCount])\n",
    "calc.register([SLogP.SLogP, Polarizability.APol,  BertzCT.BertzCT])\n",
    "calc.register([BondCount.BondCount(type='double'),\n",
    "            BondCount.BondCount(type='aromatic')])\n",
    "\n",
    "# make subsample from pandas df\n",
    "molecules = [rdkit.Chem.MolFromSmiles(smi) for smi in soldata.SMILES]\n",
    "\n",
    "raw_features = []\n",
    "for e, c in zip(molecules, calc.map(molecules, quiet=True)):\n",
    "    raw_features.append([v for v in c.values()])\n",
    "feature_names = np.array([d.description() for d in calc.descriptors])\n"
   ]
  },
  {
   "cell_type": "code",
   "execution_count": 3,
   "metadata": {},
   "outputs": [],
   "source": [
    "raw_features = np.array(raw_features)"
   ]
  },
  {
   "cell_type": "code",
   "execution_count": 4,
   "metadata": {},
   "outputs": [],
   "source": [
    "# feature_names = soldata.columns[features_start_at:]\n",
    "# raw_features = soldata[feature_names]\n",
    "labels = soldata['Solubility']"
   ]
  },
  {
   "cell_type": "code",
   "execution_count": 5,
   "metadata": {},
   "outputs": [],
   "source": [
    "def pick_features(raw_features):\n",
    "    fm = raw_features.mean()\n",
    "    fs = raw_features.std()\n",
    "    def feature_convert(f):\n",
    "        f -= fm\n",
    "        f /= fs\n",
    "        return f\n",
    "\n",
    "    features = feature_convert(raw_features)\n",
    "\n",
    "    # we have some nans in features, likely because std was 0\n",
    "    features = features.astype(float)\n",
    "    features_select = np.random.randint(0, len(raw_features[0]), size=3) # np.all(np.isfinite(features), axis=0)\n",
    "    features = features[:, features_select]\n",
    "    names = feature_names[features_select]\n",
    "    return features, names"
   ]
  },
  {
   "cell_type": "code",
   "execution_count": 6,
   "metadata": {},
   "outputs": [
    {
     "name": "stdout",
     "output_type": "stream",
     "text": [
      "(9982, 3) ['Wildman-Crippen LogP' 'number of hydrogen bond donor'\n",
      " 'basic group count']\n"
     ]
    }
   ],
   "source": [
    "features, names = pick_features(raw_features)\n",
    "print(features.shape, names)\n",
    "\n",
    "X_train, X_test, y_train, y_test = train_test_split(\n",
    "    features, labels, test_size=0.1, shuffle=True)\n",
    "\n",
    "clf = RandomForestRegressor(max_depth=10, random_state=0)\n",
    "clf.fit(X_train, y_train)\n",
    "predicted = clf.predict(X_test)"
   ]
  },
  {
   "cell_type": "code",
   "execution_count": 7,
   "metadata": {},
   "outputs": [
    {
     "data": {
      "image/png": "[encoded data removed]",
      "text/plain": [
       "<Figure size 432x288 with 1 Axes>"
      ]
     },
     "metadata": {
      "needs_background": "light"
     },
     "output_type": "display_data"
    }
   ],
   "source": [
    "X_train, X_test, y_train, y_test = train_test_split(\n",
    "    features, labels, test_size=0.1, shuffle=True)\n",
    "\n",
    "clf = RandomForestRegressor(max_depth=10, random_state=0)\n",
    "clf.fit(X_train, y_train)\n",
    "predicted = clf.predict(X_test)\n",
    "plt.plot(y_test, predicted, '.')\n",
    "plt.plot(y_test, y_test, linestyle=':')\n",
    "plt.text(max(y_test) - 5, min(y_test) + 1, f'correlation = {np.corrcoef(y_test, predicted)[0,1]:.3f}')\n",
    "plt.text(max(y_test) - 5, min(y_test), f'loss = {np.sqrt(np.mean((y_test - predicted)**2)):.3f}')\n",
    "plt.savefig('RF-ROC.png')"
   ]
  },
  {
   "cell_type": "code",
   "execution_count": 8,
   "metadata": {},
   "outputs": [],
   "source": [
    "def model_eval(smiles, _=None):\n",
    "    molecules = [rdkit.Chem.MolFromSmiles(smi) for smi in smiles]\n",
    "    # input wrangling. Get some weird values from weird smiles\n",
    "    # calc = mordred.Calculator(mordred.descriptors, ignore_3D=True)\n",
    "    # raw_features = calc.pandas(molecules, nproc=8, quiet=True)\n",
    "#     features = feature_convert(raw_features)\n",
    "#     features = features.astype(float)\n",
    "#     features = features[:, features_select]\n",
    "    labels = clf.predict(np.nan_to_num(features))\n",
    "    return labels\n",
    "labels = model_eval(soldata.SMILES, features) #.values[:100])"
   ]
  },
  {
   "cell_type": "code",
   "execution_count": 29,
   "metadata": {},
   "outputs": [
    {
     "name": "stderr",
     "output_type": "stream",
     "text": [
      "🤘Done🤘: 100%|██████████| 947.0/947 [00:01<00:00, 908.52it/s]                        \n"
     ]
    }
   ],
   "source": [
    "smi = soldata.SMILES[1000]\n",
    "space = exmol.sample_space(smi, model_eval, num_samples=2000)"
   ]
  },
  {
   "cell_type": "code",
   "execution_count": 30,
   "metadata": {
    "scrolled": true
   },
   "outputs": [
    {
     "data": {
      "image/png": "[encoded data removed]",
      "image/svg+xml": [
       "<?xml version='1.0' encoding='iso-8859-1'?>\n",
       "<svg version='1.1' baseProfile='full'\n",
       "              xmlns='http://www.w3.org/2000/svg'\n",
       "                      xmlns:rdkit='http://www.rdkit.org/xml'\n",
       "                      xmlns:xlink='http://www.w3.org/1999/xlink'\n",
       "                  xml:space='preserve'\n",
       "width='450px' height='150px' viewBox='0 0 450 150'>\n",
       "<!-- END OF HEADER -->\n",
       "<rect style='opacity:1.0;fill:#FFFFFF;stroke:none' width='450' height='150' x='0' y='0'> </rect>\n",
       "<path class='bond-0 atom-0 atom-1' d='M 20.4545,113.918 L 65.9278,87.7067' style='fill:none;fill-rule:evenodd;stroke:#000000;stroke-width:2.0px;stroke-linecap:butt;stroke-linejoin:miter;stroke-opacity:1' />\n",
       "<path class='bond-1 atom-1 atom-2' d='M 65.9278,87.7067 L 111.359,113.991' style='fill:none;fill-rule:evenodd;stroke:#000000;stroke-width:2.0px;stroke-linecap:butt;stroke-linejoin:miter;stroke-opacity:1' />\n",
       "<path class='bond-2 atom-2 atom-3' d='M 111.359,113.991 L 156.832,87.7802' style='fill:none;fill-rule:evenodd;stroke:#000000;stroke-width:2.0px;stroke-linecap:butt;stroke-linejoin:miter;stroke-opacity:1' />\n",
       "<path class='bond-2 atom-2 atom-3' d='M 113.462,101.875 L 145.293,83.5269' style='fill:none;fill-rule:evenodd;stroke:#000000;stroke-width:2.0px;stroke-linecap:butt;stroke-linejoin:miter;stroke-opacity:1' />\n",
       "<path class='bond-3 atom-3 atom-4' d='M 156.832,87.7802 L 202.263,114.065' style='fill:none;fill-rule:evenodd;stroke:#000000;stroke-width:2.0px;stroke-linecap:butt;stroke-linejoin:miter;stroke-opacity:1' />\n",
       "<path class='bond-4 atom-4 atom-5' d='M 202.263,114.065 L 247.737,87.8536' style='fill:none;fill-rule:evenodd;stroke:#000000;stroke-width:2.0px;stroke-linecap:butt;stroke-linejoin:miter;stroke-opacity:1' />\n",
       "<path class='bond-5 atom-5 atom-6' d='M 247.737,87.8536 L 264.679,97.6557' style='fill:none;fill-rule:evenodd;stroke:#000000;stroke-width:2.0px;stroke-linecap:butt;stroke-linejoin:miter;stroke-opacity:1' />\n",
       "<path class='bond-5 atom-5 atom-6' d='M 264.679,97.6557 L 281.621,107.458' style='fill:none;fill-rule:evenodd;stroke:#FF0000;stroke-width:2.0px;stroke-linecap:butt;stroke-linejoin:miter;stroke-opacity:1' />\n",
       "<path class='bond-6 atom-6 atom-7' d='M 304.715,107.483 L 321.678,97.7048' style='fill:none;fill-rule:evenodd;stroke:#FF0000;stroke-width:2.0px;stroke-linecap:butt;stroke-linejoin:miter;stroke-opacity:1' />\n",
       "<path class='bond-6 atom-6 atom-7' d='M 321.678,97.7048 L 338.641,87.9271' style='fill:none;fill-rule:evenodd;stroke:#000000;stroke-width:2.0px;stroke-linecap:butt;stroke-linejoin:miter;stroke-opacity:1' />\n",
       "<path class='bond-7 atom-7 atom-8' d='M 343.365,87.9309 L 343.381,68.1545' style='fill:none;fill-rule:evenodd;stroke:#000000;stroke-width:2.0px;stroke-linecap:butt;stroke-linejoin:miter;stroke-opacity:1' />\n",
       "<path class='bond-7 atom-7 atom-8' d='M 343.381,68.1545 L 343.396,48.378' style='fill:none;fill-rule:evenodd;stroke:#FF0000;stroke-width:2.0px;stroke-linecap:butt;stroke-linejoin:miter;stroke-opacity:1' />\n",
       "<path class='bond-7 atom-7 atom-8' d='M 333.917,87.9233 L 333.933,68.1469' style='fill:none;fill-rule:evenodd;stroke:#000000;stroke-width:2.0px;stroke-linecap:butt;stroke-linejoin:miter;stroke-opacity:1' />\n",
       "<path class='bond-7 atom-7 atom-8' d='M 333.933,68.1469 L 333.949,48.3705' style='fill:none;fill-rule:evenodd;stroke:#FF0000;stroke-width:2.0px;stroke-linecap:butt;stroke-linejoin:miter;stroke-opacity:1' />\n",
       "<path class='bond-8 atom-7 atom-9' d='M 338.641,87.9271 L 355.583,97.7292' style='fill:none;fill-rule:evenodd;stroke:#000000;stroke-width:2.0px;stroke-linecap:butt;stroke-linejoin:miter;stroke-opacity:1' />\n",
       "<path class='bond-8 atom-7 atom-9' d='M 355.583,97.7292 L 372.525,107.531' style='fill:none;fill-rule:evenodd;stroke:#FF0000;stroke-width:2.0px;stroke-linecap:butt;stroke-linejoin:miter;stroke-opacity:1' />\n",
       "<path class='bond-9 atom-9 atom-10' d='M 395.619,107.556 L 412.582,97.7783' style='fill:none;fill-rule:evenodd;stroke:#FF0000;stroke-width:2.0px;stroke-linecap:butt;stroke-linejoin:miter;stroke-opacity:1' />\n",
       "<path class='bond-9 atom-9 atom-10' d='M 412.582,97.7783 L 429.545,88.0006' style='fill:none;fill-rule:evenodd;stroke:#000000;stroke-width:2.0px;stroke-linecap:butt;stroke-linejoin:miter;stroke-opacity:1' />\n",
       "<path  class='atom-6' d='M 282.933 114.201\n",
       "Q 282.933 108.848, 285.578 105.856\n",
       "Q 288.224 102.864, 293.168 102.864\n",
       "Q 298.112 102.864, 300.757 105.856\n",
       "Q 303.402 108.848, 303.402 114.201\n",
       "Q 303.402 119.618, 300.726 122.704\n",
       "Q 298.049 125.758, 293.168 125.758\n",
       "Q 288.255 125.758, 285.578 122.704\n",
       "Q 282.933 119.649, 282.933 114.201\n",
       "M 293.168 123.239\n",
       "Q 296.569 123.239, 298.395 120.972\n",
       "Q 300.253 118.673, 300.253 114.201\n",
       "Q 300.253 109.824, 298.395 107.62\n",
       "Q 296.569 105.384, 293.168 105.384\n",
       "Q 289.767 105.384, 287.909 107.588\n",
       "Q 286.082 109.792, 286.082 114.201\n",
       "Q 286.082 118.704, 287.909 120.972\n",
       "Q 289.767 123.239, 293.168 123.239\n",
       "' fill='#FF0000'/>\n",
       "<path  class='atom-8' d='M 328.448 35.5049\n",
       "Q 328.448 30.1514, 331.094 27.1597\n",
       "Q 333.739 24.1681, 338.683 24.1681\n",
       "Q 343.627 24.1681, 346.272 27.1597\n",
       "Q 348.918 30.1514, 348.918 35.5049\n",
       "Q 348.918 40.9213, 346.241 44.0075\n",
       "Q 343.564 47.0621, 338.683 47.0621\n",
       "Q 333.77 47.0621, 331.094 44.0075\n",
       "Q 328.448 40.9528, 328.448 35.5049\n",
       "M 338.683 44.5428\n",
       "Q 342.084 44.5428, 343.911 42.2755\n",
       "Q 345.769 39.9766, 345.769 35.5049\n",
       "Q 345.769 31.1276, 343.911 28.9232\n",
       "Q 342.084 26.6873, 338.683 26.6873\n",
       "Q 335.282 26.6873, 333.424 28.8917\n",
       "Q 331.598 31.0961, 331.598 35.5049\n",
       "Q 331.598 40.0081, 333.424 42.2755\n",
       "Q 335.282 44.5428, 338.683 44.5428\n",
       "' fill='#FF0000'/>\n",
       "<path  class='atom-9' d='M 373.838 114.275\n",
       "Q 373.838 108.921, 376.483 105.93\n",
       "Q 379.128 102.938, 384.072 102.938\n",
       "Q 389.016 102.938, 391.662 105.93\n",
       "Q 394.307 108.921, 394.307 114.275\n",
       "Q 394.307 119.691, 391.63 122.777\n",
       "Q 388.953 125.832, 384.072 125.832\n",
       "Q 379.16 125.832, 376.483 122.777\n",
       "Q 373.838 119.723, 373.838 114.275\n",
       "M 384.072 123.313\n",
       "Q 387.473 123.313, 389.3 121.045\n",
       "Q 391.158 118.746, 391.158 114.275\n",
       "Q 391.158 109.897, 389.3 107.693\n",
       "Q 387.473 105.457, 384.072 105.457\n",
       "Q 380.671 105.457, 378.813 107.662\n",
       "Q 376.987 109.866, 376.987 114.275\n",
       "Q 376.987 118.778, 378.813 121.045\n",
       "Q 380.671 123.313, 384.072 123.313\n",
       "' fill='#FF0000'/>\n",
       "</svg>\n"
      ],
      "text/plain": [
       "<rdkit.Chem.rdchem.Mol at 0x7fcdae1c9620>"
      ]
     },
     "execution_count": 30,
     "metadata": {},
     "output_type": "execute_result"
    }
   ],
   "source": [
    "mol = rdkit.Chem.MolFromSmiles(smi)\n",
    "mol"
   ]
  },
  {
   "cell_type": "markdown",
   "metadata": {},
   "source": [
    "## Compare Feature significance to linear regression"
   ]
  },
  {
   "cell_type": "code",
   "execution_count": 31,
   "metadata": {},
   "outputs": [],
   "source": [
    "def calc_feature_importance(descriptors, tstats):\n",
    "    from collections import OrderedDict\n",
    "    feature_importance = {a:b for a, b in zip(descriptors, tstats)}\n",
    "    feature_importance = dict(sorted(feature_importance.items(),\n",
    "                 key=lambda item: abs(item[1]),\n",
    "                 reverse=True))\n",
    "    #Fitted space important features\n",
    "    return feature_importance\n",
    "\n",
    "def linear_model_tstats(x_mat, y, w=None):\n",
    "    from sklearn.linear_model import LinearRegression\n",
    "    noisey_x_mat = (x_mat +\n",
    "                    np.random.uniform(-1e-4, 1e-4,\n",
    "                                      size=x_mat.shape)) #* w[:, np.newaxis]\n",
    "    model = LinearRegression(fit_intercept=False).fit(noisey_x_mat, y)\n",
    "    xtinv = np.linalg.inv(noisey_x_mat.T @ noisey_x_mat)\n",
    "    beta = model.coef_\n",
    "    yhat = model.predict(x_mat)\n",
    "    resids = yhat - y\n",
    "    SSR = np.sum(resids**2)\n",
    "    se2_epsilon = SSR / (len(examples) - len(beta))\n",
    "    se2_beta = se2_epsilon * xtinv\n",
    "    # now compute t-statistic for existence of coefficients\n",
    "    tstat = beta * np.sqrt(1 / np.diag(se2_beta))\n",
    "    lr_importance = calc_feature_importance(descriptors, tstat.flatten())\n",
    "    return lr_importance\n",
    "\n"
   ]
  },
  {
   "cell_type": "code",
   "execution_count": 32,
   "metadata": {},
   "outputs": [],
   "source": [
    "# Linear regression on features\n",
    "descriptor_type='Classic'\n",
    "examples = exmol.get_descriptors(space, descriptor_type)\n",
    "descriptors = list(examples[0].descriptors.descriptor_names)\n",
    "\n",
    "x_mat = np.array([list(e.descriptors.descriptors)\n",
    "                  for e in examples]).reshape(len(examples), -1)\n",
    "# remove zero variance columns\n",
    "y = np.array([e.yhat for e in examples]).reshape(len(examples), -1).astype(float)"
   ]
  },
  {
   "cell_type": "code",
   "execution_count": 49,
   "metadata": {
    "scrolled": true
   },
   "outputs": [],
   "source": [
    "lr_attr = linear_model_tstats(x_mat, y)"
   ]
  },
  {
   "cell_type": "code",
   "execution_count": 33,
   "metadata": {},
   "outputs": [
    {
     "data": {
      "text/plain": [
       "{'Wildman-Crippen LogP': -1.0733148208718952,\n",
       " 'number of hydrogen bond donor': 0.7646373259591396,\n",
       " 'Bertz CT': 0.7286092194576852,\n",
       " 'basic group count': -0.6531393396809488,\n",
       " 'number of double bonds in non-kekulized structure': -0.48547394138250743,\n",
       " 'atomic polarizability': 0.24198725451890005,\n",
       " 'acidic group count': 0.14523994681055996,\n",
       " 'number of hydrogen bond acceptor': -0.09547248083458043,\n",
       " 'aromatic bonds count': -5.9944169387273373e-05,\n",
       " 'number of aromatic bonds in non-kekulized structure': -5.994416938727318e-05}"
      ]
     },
     "execution_count": 33,
     "metadata": {},
     "output_type": "execute_result"
    }
   ],
   "source": [
    "wls_tstats, wls_beta = exmol.lime_explain(space, descriptor_type=descriptor_type)\n",
    "wls_attr = calc_feature_importance(list(space[0].descriptors.descriptor_names), wls_tstats)\n",
    "wls_attr"
   ]
  },
  {
   "cell_type": "code",
   "execution_count": 46,
   "metadata": {
    "scrolled": false
   },
   "outputs": [
    {
     "data": {
      "image/png": "[encoded data removed]",
      "text/plain": [
       "<Figure size 432x360 with 1 Axes>"
      ]
     },
     "metadata": {
      "needs_background": "light"
     },
     "output_type": "display_data"
    }
   ],
   "source": [
    "x = (wls_attr.keys())\n",
    "xaxis = np.arange(len(x))\n",
    "x_colors = ['purple' if t in names else 'black' for t in x]\n",
    "\n",
    "rf_imp = {a:b for a, b in zip(names, clf.feature_importances_)}\n",
    "rf_x = np.zeros(len(x))\n",
    "rf_y = np.zeros(len(x))\n",
    "for i, j in enumerate(x):\n",
    "    if j in rf_imp:\n",
    "        rf_x[i] = i\n",
    "        rf_y[i] = rf_imp[j]\n",
    "      \n",
    "width = [wls_attr[i] for i in x]\n",
    "colors = ['#F06060' if i<0 else '#1BBC9B' for i in width]\n",
    "\n",
    "fig, ax = plt.subplots(figsize=(6,5))\n",
    "# plt.barh(xaxis-0.2, [lr_attr[i] for i in x], 0.4, label='LR')\n",
    "ax.barh(xaxis+0.2, width, 0.75, label='WLS', color = colors)\n",
    "# plt.barh(rf_x-0.4, rf_y, 0.4, label='RF model')\n",
    "\n",
    "plt.xticks(fontsize=12)\n",
    "plt.xlabel('Feature t-statistics', fontsize=12)\n",
    "plt.yticks(xaxis, x, fontsize=12)\n",
    "[t.set_color(i) for (i,t) in\n",
    " zip(x_colors, ax.yaxis.get_ticklabels())]\n",
    "plt.gca().invert_yaxis()\n",
    "# plt.legend()\n",
    "plt.title('Random Forest Regression', fontsize=12)\n",
    "plt.savefig('baseline.svg', bbox_inches='tight', dpi=180)"
   ]
  },
  {
   "cell_type": "code",
   "execution_count": 20,
   "metadata": {},
   "outputs": [
    {
     "name": "stdout",
     "output_type": "stream",
     "text": [
      "[-2.279459959752991, 1.820738052044855, -1.5618876259080507, -1.284787576208102, 0.9798329975423786]\n"
     ]
    },
    {
     "data": {
      "image/png": "[encoded data removed]",
      "text/plain": [
       "<Figure size 360x360 with 1 Axes>"
      ]
     },
     "metadata": {
      "needs_background": "light"
     },
     "output_type": "display_data"
    }
   ],
   "source": [
    "plot_desc(wls_attr, output_file='RF.svg')"
   ]
  },
  {
   "cell_type": "code",
   "execution_count": 19,
   "metadata": {},
   "outputs": [],
   "source": [
    "from matplotlib.patches import Rectangle, FancyBboxPatch\n",
    "import textwrap\n",
    "def plot_desc(feature_importance, output_file, title=None, ax = None):\n",
    "    if ax is None:\n",
    "        fig = plt.figure(figsize=(5, 5))\n",
    "        ax = fig.add_subplot(111)\n",
    "    t = list(feature_importance.values())\n",
    "    colors = []\n",
    "    for ti in t:\n",
    "        if ti < 0:\n",
    "            colors.append(color_cycle[0])\n",
    "        if ti > 0:\n",
    "            colors.append(color_cycle[1])\n",
    "\n",
    "    keys = list(feature_importance.keys())\n",
    "\n",
    "    if len(t) > 0:\n",
    "        if len(t) > 5:\n",
    "            t = t[:5]\n",
    "            keys = keys[:5]\n",
    "            print(t)\n",
    "        elif len(t) < 5:\n",
    "            diff = 5 - len(t)\n",
    "            for i in range(diff):\n",
    "                t.append(0)\n",
    "                keys.append(' ')\n",
    "        bar1 = ax.barh(range(len(t)), t, color=colors, height=0.75)\n",
    "        new_patches = []\n",
    "        for patch in reversed(ax.patches):\n",
    "            bb = patch.get_bbox()\n",
    "            color=patch.get_facecolor()\n",
    "            p_bbox = FancyBboxPatch((bb.xmin, bb.ymin),\n",
    "                                abs(bb.width), abs(bb.height),\n",
    "                                boxstyle=\"round,pad=-0.040,rounding_size=0.015\",\n",
    "                                ec=\"none\", fc=color,\n",
    "                                mutation_aspect=4\n",
    "                                )\n",
    "            patch.remove()\n",
    "            new_patches.append(p_bbox)\n",
    "        for patch in new_patches:\n",
    "            ax.add_patch(patch)\n",
    "\n",
    "        count = 1\n",
    "        for rect, ti, k in zip(bar1, t, keys):\n",
    "            y = rect.get_y() + rect.get_height()/2.\n",
    "            if len(k) > 60:\n",
    "                k = textwrap.fill(k, 20)\n",
    "            elif len(k) > 25:\n",
    "                k = textwrap.fill(k, 20)\n",
    "            if ti < 0:\n",
    "                x = 0.5\n",
    "                ax.text(x, y, k, ha='left', va='center', wrap=True, fontsize=12)\n",
    "                count+=1\n",
    "            else:\n",
    "                x = -0.5\n",
    "                ax.text(x, y, k, ha='right', va='center', wrap=True, fontsize=12)\n",
    "                count+=1\n",
    "            \n",
    "        ax.set_xlim(-np.max(np.absolute(t))-1, np.max(np.absolute(t))+1)\n",
    "    else:\n",
    "        patch = ax.get_ylim()\n",
    "        print(patch)\n",
    "        ax.text(0.5, 0.5, 'No significant t-stats', ha='right', va='center', wrap=True, fontsize=12)\n",
    "    \n",
    "    \n",
    "    ax.axvline(x=0, color='grey', linewidth=0.5)\n",
    "    ax.set_yticks([])\n",
    "    ax.invert_yaxis()\n",
    "    ax.set_xlabel('Feature t-statistics')\n",
    "    ax.set_title(title)\n",
    "    if output_file is not None:\n",
    "        plt.savefig(output_file, dpi = 300, bbox_inches='tight')"
   ]
  },
  {
   "cell_type": "code",
   "execution_count": null,
   "metadata": {},
   "outputs": [],
   "source": []
  }
 ],
 "metadata": {
  "kernelspec": {
   "display_name": "Python (rdkit)",
   "language": "python",
   "name": "rdkit"
  },
  "language_info": {
   "codemirror_mode": {
    "name": "ipython",
    "version": 3
   },
   "file_extension": ".py",
   "mimetype": "text/x-python",
   "name": "python",
   "nbconvert_exporter": "python",
   "pygments_lexer": "ipython3",
   "version": "3.7.9"
  }
 },
 "nbformat": 4,
 "nbformat_minor": 4
}
